{
 "cells": [
  {
   "cell_type": "code",
   "execution_count": 14,
   "metadata": {},
   "outputs": [],
   "source": [
    "import operator\n",
    "import numpy as np\n",
    "import matplotlib.pyplot as plt\n",
    "from sklearn.linear_model import LinearRegression\n",
    "from sklearn.preprocessing import PolynomialFeatures\n",
    "from sklearn.metrics import mean_squared_error, r2_score"
   ]
  },
  {
   "cell_type": "code",
   "execution_count": 15,
   "metadata": {},
   "outputs": [],
   "source": [
    "np.random.seed(0)\n",
    "x = 2 - 3 * np.random.normal(0, 1, 20)\n",
    "y = x - 2 * (x ** 2) + 0.5 * (x ** 3) + np.random.normal(-3, 3, 20)"
   ]
  },
  {
   "cell_type": "code",
   "execution_count": 16,
   "metadata": {},
   "outputs": [
    {
     "data": {
      "text/plain": [
       "array([-3.29215704,  0.79952837, -0.93621395, -4.7226796 , -3.60267397,\n",
       "        4.93183364, -0.85026525,  2.45407162,  2.30965656,  0.76820449,\n",
       "        1.56786929, -2.36282052, -0.28311318,  1.63497495,  0.6684103 ,\n",
       "        0.99897702, -2.48223722,  2.61547479,  1.0607969 ,  4.56228722])"
      ]
     },
     "execution_count": 16,
     "metadata": {},
     "output_type": "execute_result"
    }
   ],
   "source": [
    "x #before transforming"
   ]
  },
  {
   "cell_type": "code",
   "execution_count": 17,
   "metadata": {},
   "outputs": [],
   "source": [
    "#transformed the axis. See the resut in the next cell\n",
    "x = x[:, np.newaxis]\n",
    "y = y[:, np.newaxis]"
   ]
  },
  {
   "cell_type": "code",
   "execution_count": 18,
   "metadata": {},
   "outputs": [
    {
     "name": "stdout",
     "output_type": "stream",
     "text": [
      "x [[-3.29215704]\n",
      " [ 0.79952837]\n",
      " [-0.93621395]\n",
      " [-4.7226796 ]\n",
      " [-3.60267397]\n",
      " [ 4.93183364]\n",
      " [-0.85026525]\n",
      " [ 2.45407162]\n",
      " [ 2.30965656]\n",
      " [ 0.76820449]\n",
      " [ 1.56786929]\n",
      " [-2.36282052]\n",
      " [-0.28311318]\n",
      " [ 1.63497495]\n",
      " [ 0.6684103 ]\n",
      " [ 0.99897702]\n",
      " [-2.48223722]\n",
      " [ 2.61547479]\n",
      " [ 1.0607969 ]\n",
      " [ 4.56228722]] y [[ -53.46841187]\n",
      " [  -1.26255958]\n",
      " [  -3.50619264]\n",
      " [-107.22320039]\n",
      " [ -49.13195018]\n",
      " [   8.90122353]\n",
      " [  -5.46624176]\n",
      " [  -5.76263165]\n",
      " [  -0.60058568]\n",
      " [   1.2226779 ]\n",
      " [  -3.95663744]\n",
      " [ -21.98989452]\n",
      " [  -6.11812275]\n",
      " [ -10.46843964]\n",
      " [  -4.11955719]\n",
      " [  -3.02941914]\n",
      " [ -21.76152272]\n",
      " [  -1.51295226]\n",
      " [  -4.75491157]\n",
      " [   6.50723268]]\n"
     ]
    }
   ],
   "source": [
    "print(\"x\",x,\"y\",y)"
   ]
  },
  {
   "cell_type": "code",
   "execution_count": 41,
   "metadata": {},
   "outputs": [],
   "source": [
    "p_features = PolynomialFeatures(degree=2)\n",
    "x_p = p_features.fit_transform(x)"
   ]
  },
  {
   "cell_type": "code",
   "execution_count": 42,
   "metadata": {},
   "outputs": [
    {
     "data": {
      "text/plain": [
       "LinearRegression()"
      ]
     },
     "execution_count": 42,
     "metadata": {},
     "output_type": "execute_result"
    }
   ],
   "source": [
    "model = LinearRegression()\n",
    "model.fit(x_p,y)"
   ]
  },
  {
   "cell_type": "code",
   "execution_count": 43,
   "metadata": {},
   "outputs": [],
   "source": [
    "y_poly_pred = model.predict(x_p)"
   ]
  },
  {
   "cell_type": "code",
   "execution_count": 44,
   "metadata": {},
   "outputs": [
    {
     "name": "stdout",
     "output_type": "stream",
     "text": [
      "23.20425103834196\n",
      "0.23124366071264557\n"
     ]
    }
   ],
   "source": [
    "rmse = np.sqrt(mean_squared_error(y,y_poly_pred))\n",
    "r2 = r2_score(y,y_poly_pred)\n",
    "print(rmse)\n",
    "print(r2)"
   ]
  },
  {
   "cell_type": "code",
   "execution_count": 45,
   "metadata": {},
   "outputs": [
    {
     "data": {
      "image/png": "[encoded data removed]",
      "text/plain": [
       "<Figure size 432x288 with 1 Axes>"
      ]
     },
     "metadata": {
      "needs_background": "light"
     },
     "output_type": "display_data"
    }
   ],
   "source": [
    "sort_axis = operator.itemgetter(0)\n",
    "sorted_zip = sorted(zip(x,y_poly_pred), key=sort_axis)\n",
    "x, y_poly_pred = zip(*sorted_zip)\n",
    "plt.scatter(x,y,s=10)\n",
    "plt.plot(x, y_poly_pred, color='m')\n",
    "plt.show()"
   ]
  },
  {
   "cell_type": "code",
   "execution_count": null,
   "metadata": {},
   "outputs": [],
   "source": []
  },
  {
   "cell_type": "code",
   "execution_count": null,
   "metadata": {},
   "outputs": [],
   "source": []
  },
  {
   "cell_type": "code",
   "execution_count": null,
   "metadata": {},
   "outputs": [],
   "source": []
  }
 ],
 "metadata": {
  "kernelspec": {
   "display_name": "Python 3",
   "language": "python",
   "name": "python3"
  },
  "language_info": {
   "codemirror_mode": {
    "name": "ipython",
    "version": 3
   },
   "file_extension": ".py",
   "mimetype": "text/x-python",
   "name": "python",
   "nbconvert_exporter": "python",
   "pygments_lexer": "ipython3",
   "version": "3.8.5"
  }
 },
 "nbformat": 4,
 "nbformat_minor": 4
}
